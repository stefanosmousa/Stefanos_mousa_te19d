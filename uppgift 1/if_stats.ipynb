{
 "metadata": {
  "language_info": {
   "codemirror_mode": {
    "name": "ipython",
    "version": 3
   },
   "file_extension": ".py",
   "mimetype": "text/x-python",
   "name": "python",
   "nbconvert_exporter": "python",
   "pygments_lexer": "ipython3",
   "version": "3.8.3-final"
  },
  "orig_nbformat": 2,
  "kernelspec": {
   "name": "python_defaultSpec_1600248888928",
   "display_name": "Python 3.8.3 64-bit ('base': conda)"
  }
 },
 "nbformat": 4,
 "nbformat_minor": 2,
 "cells": [
  {
   "cell_type": "code",
   "execution_count": 16,
   "metadata": {
    "tags": []
   },
   "outputs": [
    {
     "output_type": "stream",
     "name": "stdout",
     "text": "talet ar negativt\n"
    }
   ],
   "source": [
    "tal=float(input(\"ange ett tal\"))\n",
    "\n",
    "if tal >0 :\n",
    "    print(\"talet ar possitivt\")\n",
    "else:\n",
    "    print(\"talet ar negativt\")"
   ]
  },
  {
   "cell_type": "code",
   "execution_count": 19,
   "metadata": {
    "tags": []
   },
   "outputs": [
    {
     "output_type": "stream",
     "name": "stdout",
     "text": "talet är jämnt\n"
    }
   ],
   "source": [
    "tal=float(input(\"ange ett tal\"))\n",
    "\n",
    "if tal%2 ==0:\n",
    "    print(\"talet är jämnt\")\n",
    "else:\n",
    "    print(\"talet är udda\")\n",
    "if tal%5 ==0:\n",
    "    print(\"tal är delbart med 5\")"
   ]
  },
  {
   "cell_type": "code",
   "execution_count": 8,
   "metadata": {
    "tags": []
   },
   "outputs": [
    {
     "output_type": "stream",
     "name": "stdout",
     "text": "4.0 är större\n"
    }
   ],
   "source": [
    "tal1= float(input(\"Ange valfritt tal\"))\n",
    "tal2= float(input(\"ange valfritt tal\"))\n",
    "\n",
    "if tal2 < tal1:\n",
    "    print(f\"{tal1} är större\")\n",
    "else:\n",
    "    print(f\"{tal2} är större\")"
   ]
  },
  {
   "cell_type": "code",
   "execution_count": 22,
   "metadata": {
    "tags": []
   },
   "outputs": [
    {
     "output_type": "stream",
     "name": "stdout",
     "text": "vinkeln är konvex\n"
    }
   ],
   "source": [
    "vinkel=float(input(\"ange en vinkel\"))\n",
    "\n",
    "if vinkel <=90:\n",
    "    print(\"vinkeln är spetsig\")\n",
    "elif vinkel == 90:\n",
    "    print(\"vinkeln är rät\")\n",
    "elif vinkel >90 and vinkel <180:\n",
    "    print(\"vinklen är trubbig\")\n",
    "elif vinkel ==180:\n",
    "    print(\"vinkeln är rak\")\n",
    "elif vinkel >180 and vinkel <360:\n",
    "    print(\"vinkeln är konvex\")\n",
    "elif vinkel == 360:\n",
    "    print(\"vinkeln är hel\")"
   ]
  }
 ]
}