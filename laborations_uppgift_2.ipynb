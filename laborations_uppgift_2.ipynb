{
 "metadata": {
  "language_info": {
   "codemirror_mode": {
    "name": "ipython",
    "version": 3
   },
   "file_extension": ".py",
   "mimetype": "text/x-python",
   "name": "python",
   "nbconvert_exporter": "python",
   "pygments_lexer": "ipython3",
   "version": "3.8.3-final"
  },
  "orig_nbformat": 2,
  "kernelspec": {
   "name": "Python 3.8.3 64-bit (conda)",
   "display_name": "Python 3.8.3 64-bit (conda)",
   "metadata": {
    "interpreter": {
     "hash": "91f53264392ae34336c760709f07bc36cf9c0dd5a128a5b3682fc14cdf798a75"
    }
   }
  }
 },
 "nbformat": 4,
 "nbformat_minor": 2,
 "cells": [
  {
   "cell_type": "code",
   "execution_count": 19,
   "metadata": {},
   "outputs": [
    {
     "output_type": "stream",
     "name": "stdout",
     "text": [
      "1\n2\n3\n4\n5\n6\n7\n8\n9\n10\n11\n12\n13\n14\n15\n16\n17\n18\n19\n20\n21\n22\n23\n24\n25\n26\n27\n28\n29\n30\n31\n32\n33\n34\n35\n36\n37\n38\n39\n40\n41\n42\n43\n44\n45\n46\n47\n48\n49\n50\n51\n52\n53\n54\n55\n56\n57\n58\n59\n60\n61\n62\n63\n64\n65\n66\n67\n68\n69\n70\n71\n72\n73\n74\n75\n76\n77\n78\n79\n80\n81\n82\n83\n84\n85\n86\n87\n88\n89\n90\n91\n92\n93\n94\n95\n96\n97\n98\n99\n100\n"
     ]
    }
   ],
   "source": [
    "#a\n",
    "#jag gjorde en for sats för att kunna printa ut alla tal från 1-100  \n",
    "for i in range(1, 101):\n",
    "    print(i)"
   ]
  },
  {
   "cell_type": "code",
   "execution_count": 49,
   "metadata": {},
   "outputs": [
    {
     "output_type": "stream",
     "name": "stdout",
     "text": [
      "1\n2\n3\n4\nburr\n6\n7\n8\n9\nburr\n11\n12\n13\n14\nburr\n16\n17\n18\n19\nburr\n21\n22\n23\n24\nburr\n26\n27\n28\n29\nburr\n31\n32\n33\n34\nburr\n36\n37\n38\n39\nburr\n41\n42\n43\n44\nburr\n46\n47\n48\n49\nburr\n51\n52\n53\n54\nburr\n56\n57\n58\n59\nburr\n61\n62\n63\n64\nburr\n66\n67\n68\n69\nburr\n71\n72\n73\n74\nburr\n76\n77\n78\n79\nburr\n81\n82\n83\n84\nburr\n86\n87\n88\n89\nburr\n91\n92\n93\n94\nburr\n96\n97\n98\n99\nburr\n"
     ]
    }
   ],
   "source": [
    "#b\n",
    "#ange först ett tal för att deffinera i\n",
    "i=0\n",
    "#sedan gör man en for-sats för att kunna printa ut alla tal från 1-100 men också printa ut alla multiplar av 5 på den listan.\n",
    "for i in range(1, 101):\n",
    "    if i%5:\n",
    "        print(i)\n",
    "    else:\n",
    "        print (\"burr\")"
   ]
  },
  {
   "cell_type": "code",
   "execution_count": 2,
   "metadata": {},
   "outputs": [
    {
     "output_type": "stream",
     "name": "stdout",
     "text": [
      "1\n2\n3\n4\n5\n6\n7\nburr\n9\n10\n11\n12\n13\n14\n15\nburr\n17\n18\n19\n20\n21\n22\n23\nburr\n25\n26\n27\n28\n29\n30\n31\nburr\n33\n34\n35\n36\n37\n38\n39\nburr\n41\n42\n43\n44\n45\n46\n47\nburr\n49\n50\n51\n52\n53\n54\n55\nburr\n57\n58\n59\n60\n61\n62\n63\nburr\n65\n66\n67\n68\n69\n70\n71\nburr\n73\n74\n75\n76\n77\n78\n79\nburr\n81\n82\n83\n84\n85\n86\n87\nburr\n89\n90\n91\n92\n93\n94\n95\nburr\n97\n98\n99\n100\n"
     ]
    }
   ],
   "source": [
    "#c\n",
    "#först måste man göra en ny kod för att man ska kunna skriva in ett tal, skrev in int för att det endast ska vara heltal och inga decimaler.\n",
    "x = int(input(\"ange ett tal\"))\n",
    "#efter det gör jag en for-sats för att skriva ut alla multiplar av talet mellan 1-100\n",
    "for i in range(1, 101):\n",
    "#istället för att skriva in ett tal till höger om modulus så skriver jag istället in 'x' som kommer att automatiskt skriva in det talet användaren väljer istället för ett fixerat tall.\n",
    "    if i%x==0:\n",
    "        print (\"burr\")    \n",
    "    else:\n",
    "        print (i)"
   ]
  },
  {
   "cell_type": "code",
   "execution_count": 6,
   "metadata": {},
   "outputs": [
    {
     "output_type": "stream",
     "name": "stdout",
     "text": [
      "1\n2\nburr\n4\n5\nburr\n7\nbirr\nburr\n10\n11\nburr\n13\n14\nburr\nbirr\n17\nburr\n19\n20\nburr\n22\n23\nburr\n25\n26\nburr\n28\n29\nburr\n31\nbirr\nburr\n34\n35\nburr\n37\n38\nburr\nbirr\n41\nburr\n43\n44\nburr\n46\n47\nburr\n49\n50\nburr\n52\n53\nburr\n55\nbirr\nburr\n58\n59\nburr\n61\n62\nburr\nbirr\n65\nburr\n67\n68\nburr\n70\n71\nburr\n73\n74\nburr\n76\n77\nburr\n79\nbirr\nburr\n82\n83\nburr\n85\n86\nburr\nbirr\n89\nburr\n91\n92\nburr\n94\n95\nburr\n97\n98\nburr\n100\n"
     ]
    }
   ],
   "source": [
    "#d\n",
    "#börja med att göra två input rader som man ska kunna skriva in egna tal på, dessa har jag gjort till 'x' och 'y' variabler\n",
    "x = int(input(\"ange ett tal\"))\n",
    "y = int(input(\"ange ett tal\"))\n",
    "#som alla andra uppgifter så gör jag en for sats och innanför for satsen gör jag en if-stream. I denna gör jag först samma som föregående uppgift att den skriver ut ett talen och dess multipler, efter det gjorde jag en 'elif-' rad som skulle inehålla den andra raden och printa ut det andra talet man skriver in tillsammans med dess multipler på en nummerlinje från 1-100.\n",
    "for i in range(1, 101):\n",
    "    if i%x==0:\n",
    "        print (\"burr\")   \n",
    "    elif i%y==0:\n",
    "            print (\"birr\") \n",
    "    else:\n",
    "        print (i)\n",
    "        "
   ]
  },
  {
   "cell_type": "code",
   "execution_count": 15,
   "metadata": {},
   "outputs": [
    {
     "output_type": "stream",
     "name": "stdout",
     "text": [
      "birr\n3\nbirr\nburr\nbirr\n7\nbirr\n9\nburr och birr\n11\nbirr\n13\nbirr\nburr\nbirr\n17\nbirr\n19\nburr och birr\n21\nbirr\n23\nbirr\nburr\nbirr\n27\nbirr\n29\nburr och birr\n31\nbirr\n33\nbirr\nburr\nbirr\n37\nbirr\n39\nburr och birr\n41\nbirr\n43\nbirr\nburr\nbirr\n47\nbirr\n49\nburr och birr\n51\nbirr\n53\nbirr\nburr\nbirr\n57\nbirr\n59\nburr och birr\n61\nbirr\n63\nbirr\nburr\nbirr\n67\nbirr\n69\nburr och birr\n71\nbirr\n73\nbirr\nburr\nbirr\n77\nbirr\n79\nburr och birr\n81\nbirr\n83\nbirr\nburr\nbirr\n87\nbirr\n89\nburr och birr\n91\nbirr\n93\nbirr\nburr\nbirr\n97\nbirr\n99\n"
     ]
    }
   ],
   "source": [
    "#e\n",
    "#börja med att skriva en input för varje variabel man behöver ha med, i denna uppgiften behöver man start, slut multippel för birr och multippel för burr. Alla dessa hare olika inputs och man måste skriva in talen för varandra\n",
    "a = int(input(\"ange ett start tal\"))\n",
    "b = int(input(\"ange ett slut tal\"))\n",
    "c = int(input(\"ange en multippel för burr\"))\n",
    "d = int(input(\"ange en multippel för birr\"))\n",
    "#för att man ska skriva in alla dessa variabler behöver man en for-sats, denhär satsen är ett måste för att man ska kunna stoppa in alla variavler och att de ska funka tillsammans med varandra\n",
    "for i in range (a,b):\n",
    "    if i%c==0 and i%d==0:\n",
    "        print (\"burr och birr\")\n",
    "    elif i%c==0:\n",
    "        print (\"burr\")\n",
    "    elif i%d==0:\n",
    "        print(\"birr\")\n",
    "    else:\n",
    "        print(i)"
   ]
  },
  {
   "cell_type": "code",
   "execution_count": null,
   "metadata": {},
   "outputs": [],
   "source": [
    "#2h\n",
    "#jag kan inte komma på något sätt som man kan vidare-utväckla programmet och göra det bättre. "
   ]
  }
 ]
}