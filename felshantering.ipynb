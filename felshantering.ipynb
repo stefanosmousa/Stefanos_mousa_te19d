{
 "metadata": {
  "language_info": {
   "codemirror_mode": {
    "name": "ipython",
    "version": 3
   },
   "file_extension": ".py",
   "mimetype": "text/x-python",
   "name": "python",
   "nbconvert_exporter": "python",
   "pygments_lexer": "ipython3",
   "version": "3.8.5-final"
  },
  "orig_nbformat": 2,
  "kernelspec": {
   "name": "python3",
   "display_name": "Python 3",
   "language": "python"
  }
 },
 "nbformat": 4,
 "nbformat_minor": 2,
 "cells": [
  {
   "cell_type": "code",
   "execution_count": 12,
   "metadata": {},
   "outputs": [
    {
     "output_type": "stream",
     "name": "stdout",
     "text": [
      "1.0\n"
     ]
    }
   ],
   "source": [
    "import numpy as np \n",
    "\n",
    "def distance(p1,p2):\n",
    "    return np.sqrt(p1+p2)\n",
    "\n",
    "print(distance(0.5 , 0.5))\n",
    "# man ska ta bort [] för att programmet ska använda sig av talet inom parentesen i print och stoppa in de i deffenitionen"
   ]
  },
  {
   "cell_type": "code",
   "execution_count": 20,
   "metadata": {},
   "outputs": [
    {
     "output_type": "stream",
     "name": "stdout",
     "text": [
      "100 är inte fyrsiffrigt\n231 är inte fyrsiffrigt\n10000 är inte fyrsiffrigt\n10001 är inte fyrsiffrigt\n-1000 är fyrsiffrigt\n102313 är inte fyrsiffrigt\n"
     ]
    }
   ],
   "source": [
    "def ar_fyrsiffrigt(tal):\n",
    "    if tal //1000 < 0:\n",
    "        return True\n",
    "    else:\n",
    "        return False\n",
    "\n",
    "#testprogram\n",
    "testtal = [100, 231, 10000, 10001, -1000, 102313]\n",
    "\n",
    "for t in testtal:\n",
    "    if ar_fyrsiffrigt(t):\n",
    "        print(f\"{t} är fyrsiffrigt\")\n",
    "    else:\n",
    "        print(f\"{t} är inte fyrsiffrigt\")\n",
    "\n",
    "#felet med denna uppgiften var att i if satsen på deffenitionen så skrev man <10 istället för <0 som är det rätta."
   ]
  },
  {
   "cell_type": "code",
   "execution_count": 8,
   "metadata": {},
   "outputs": [
    {
     "output_type": "stream",
     "name": "stdout",
     "text": [
      "det är mer värt att ha månadskortet\n"
     ]
    }
   ],
   "source": [
    "antal_resor = int(input(\"ange hur många resor du vill åka\"))\n",
    "engångsbiljetter = int(input(\"ange priset för engångsbiljetter\"))\n",
    "månadkort = int(input(\"ange priset för ett månadskort\"))\n",
    "\n",
    "\n",
    "\n",
    "if engångsbiljetter*antal_resor > månadkort:\n",
    "    print(f\"det är mer värt att ha månadskortet\")\n",
    "else:\n",
    "    print(f\"det är mer värt att köpa engångsbiljetter\")"
   ]
  }
 ]
}