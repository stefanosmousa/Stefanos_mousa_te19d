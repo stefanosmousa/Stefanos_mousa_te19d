{
 "metadata": {
  "language_info": {
   "codemirror_mode": {
    "name": "ipython",
    "version": 3
   },
   "file_extension": ".py",
   "mimetype": "text/x-python",
   "name": "python",
   "nbconvert_exporter": "python",
   "pygments_lexer": "ipython3",
   "version": "3.8.3-final"
  },
  "orig_nbformat": 2,
  "kernelspec": {
   "name": "Python 3.8.3 64-bit ('base': conda)",
   "display_name": "Python 3.8.3 64-bit ('base': conda)",
   "metadata": {
    "interpreter": {
     "hash": "91f53264392ae34336c760709f07bc36cf9c0dd5a128a5b3682fc14cdf798a75"
    }
   }
  }
 },
 "nbformat": 4,
 "nbformat_minor": 2,
 "cells": [
  {
   "cell_type": "code",
   "execution_count": 6,
   "metadata": {
    "tags": []
   },
   "outputs": [
    {
     "output_type": "stream",
     "name": "stdout",
     "text": "antal år 9\n"
    }
   ],
   "source": [
    "instättning = 1000\n",
    "förändringsfaktor = 1.02\n",
    "år=0\n",
    "\n",
    "while instättning < 10000:\n",
    "    instättning = instättning*förändringsfaktor + 1000\n",
    "    år += 1 # år ökar med qtt\n",
    "\n",
    "print(f\"antal år {år}\")\n"
   ]
  },
  {
   "cell_type": "code",
   "execution_count": 14,
   "metadata": {
    "tags": []
   },
   "outputs": [
    {
     "output_type": "stream",
     "name": "stdout",
     "text": "det tar 5 timmar\n"
    }
   ],
   "source": [
    "bakterier = 1.5e6\n",
    "förändringsfaktor = 1.5\n",
    "timmar = 0\n",
    "while bakterier < 1e7:\n",
    "    bakterier = bakterier*förändringsfaktor\n",
    "    timmar += 1 \n",
    "\n",
    "print(f\"det tar {timmar} timmar\")"
   ]
  },
  {
   "cell_type": "code",
   "execution_count": 18,
   "metadata": {
    "tags": []
   },
   "outputs": [
    {
     "output_type": "stream",
     "name": "stdout",
     "text": [
      "summa 5050\n"
     ]
    }
   ],
   "source": [
    "s = 0\n",
    "summa = 0\n",
    "while s < 101:\n",
    "    summa += s\n",
    "    s += 1\n",
    "print(f\"summa {summa}\")"
   ]
  },
  {
   "cell_type": "code",
   "execution_count": 36,
   "metadata": {
    "tags": []
   },
   "outputs": [
    {
     "output_type": "stream",
     "name": "stdout",
     "text": "talet är för lågt\ntalet är för lågt\ntalet är för lågt\ntalet är för högt\ntalet är för högt\ntalet är för högt\ntalet är för högt\ntalet är för lågt\ntalet är för högt\ntalet är för högt\ntalet är för högt\ntalet är för högt\nSnyggt jobbat! Det var rätt!\n"
    }
   ],
   "source": [
    "import random as rnd\n",
    "guess = int(input(\"Gissa vilket tal jag tänker på!\"))\n",
    "nummer = rnd.randint(0, 101)\n",
    "while guess!= nummer:\n",
    "    guess = int(input(\"Gissa vilket tal jag tänker på!\"))\n",
    "    if guess == nummer:\n",
    "        print(\"Snyggt jobbat! Det var rätt!\")\n",
    "    elif guess > nummer:\n",
    "        print (\"talet är för högt\")\n",
    "    else:\n",
    "        print(\"talet är för lågt\")"
   ]
  },
  {
   "cell_type": "code",
   "execution_count": 13,
   "metadata": {
    "tags": []
   },
   "outputs": [
    {
     "output_type": "stream",
     "name": "stdout",
     "text": [
      "summa = 2600\n"
     ]
    }
   ],
   "source": [
    "s = 1\n",
    "i = 2\n",
    "summa = 0\n",
    "while s < 100:\n",
    "    s +=  i\n",
    "    summa += s\n",
    "print(f\"summa = {summa}\")"
   ]
  },
  {
   "cell_type": "code",
   "execution_count": null,
   "metadata": {},
   "outputs": [],
   "source": []
  }
 ]
}