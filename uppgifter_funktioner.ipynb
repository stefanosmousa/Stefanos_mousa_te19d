{
 "metadata": {
  "language_info": {
   "codemirror_mode": {
    "name": "ipython",
    "version": 3
   },
   "file_extension": ".py",
   "mimetype": "text/x-python",
   "name": "python",
   "nbconvert_exporter": "python",
   "pygments_lexer": "ipython3",
   "version": "3.8.3-final"
  },
  "orig_nbformat": 2,
  "kernelspec": {
   "name": "python3",
   "display_name": "Python 3"
  }
 },
 "nbformat": 4,
 "nbformat_minor": 2,
 "cells": [
  {
   "cell_type": "code",
   "execution_count": 1,
   "metadata": {},
   "outputs": [
    {
     "output_type": "stream",
     "name": "stdout",
     "text": [
      "56875.0\n"
     ]
    }
   ],
   "source": [
    "#1a&b\n",
    "def f(n,a1,an):\n",
    "    return n*(a1+an)/2\n",
    "print(f(100,1,100))"
   ]
  },
  {
   "cell_type": "code",
   "execution_count": 5,
   "metadata": {},
   "outputs": [
    {
     "output_type": "stream",
     "name": "stdout",
     "text": [
      "5050.0\n"
     ]
    }
   ],
   "source": [
    "#1c\n",
    "n=int(input(\"ange ett tal för n\"))\n",
    "a1=int(input(\"ange ett tal för a2\"))\n",
    "an=int(input(\"ange ett tal för an\"))\n",
    "\n",
    "def artimetisk_summa(n,a1,an):\n",
    "    return n*(a1+an)/2\n",
    "\n",
    "print(artimetisk_summa(n,a1,an))"
   ]
  },
  {
   "cell_type": "code",
   "execution_count": 12,
   "metadata": {},
   "outputs": [
    {
     "output_type": "stream",
     "name": "stdout",
     "text": [
      "3\n"
     ]
    }
   ],
   "source": [
    "#2 a&b\n",
    "a=int(input(\"ange ett startvärde\"))\n",
    "n=int(input(\"ange ett värde för n\"))\n",
    "def f(n):\n",
    "    return (2*n+1)\n",
    "    range(a)\n",
    "print(f(a))"
   ]
  },
  {
   "cell_type": "code",
   "execution_count": null,
   "metadata": {},
   "outputs": [],
   "source": []
  }
 ]
}