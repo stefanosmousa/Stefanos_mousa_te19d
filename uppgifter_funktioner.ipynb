{
 "metadata": {
  "language_info": {
   "codemirror_mode": {
    "name": "ipython",
    "version": 3
   },
   "file_extension": ".py",
   "mimetype": "text/x-python",
   "name": "python",
   "nbconvert_exporter": "python",
   "pygments_lexer": "ipython3",
   "version": "3.8.3-final"
  },
  "orig_nbformat": 2,
  "kernelspec": {
   "name": "python3",
   "display_name": "Python 3",
   "language": "python"
  }
 },
 "nbformat": 4,
 "nbformat_minor": 2,
 "cells": [
  {
   "cell_type": "code",
   "execution_count": 1,
   "metadata": {},
   "outputs": [
    {
     "output_type": "stream",
     "name": "stdout",
     "text": [
      "56875.0\n"
     ]
    }
   ],
   "source": [
    "#1a&b\n",
    "def f(n,a1,an):\n",
    "    return n*(a1+an)/2\n",
    "print(f(100,1,100))"
   ]
  },
  {
   "cell_type": "code",
   "execution_count": 5,
   "metadata": {},
   "outputs": [
    {
     "output_type": "stream",
     "name": "stdout",
     "text": [
      "5050.0\n"
     ]
    }
   ],
   "source": [
    "#1c\n",
    "n=int(input(\"ange ett tal för n\"))\n",
    "a1=int(input(\"ange ett tal för a2\"))\n",
    "an=int(input(\"ange ett tal för an\"))\n",
    "\n",
    "def artimetisk_summa(n,a1,an):\n",
    "    return n*(a1+an)/2\n",
    "\n",
    "print(artimetisk_summa(n,a1,an))"
   ]
  },
  {
   "cell_type": "code",
   "execution_count": 17,
   "metadata": {},
   "outputs": [
    {
     "output_type": "stream",
     "name": "stdout",
     "text": [
      "42.0\n"
     ]
    }
   ],
   "source": [
    "#2a\n",
    "n=int(input(\"ange ett tal för n\"))\n",
    "a1=1\n",
    "\n",
    "def f(n):\n",
    "    an= 2*n+1\n",
    "    return n*(a1+an)/2\n",
    "print(f(n))"
   ]
  },
  {
   "cell_type": "code",
   "execution_count": 49,
   "metadata": {},
   "outputs": [
    {
     "output_type": "stream",
     "name": "stdout",
     "text": [
      "110.0\n"
     ]
    }
   ],
   "source": [
    "#2 b\n",
    "a=int(input(\"ange ett startvärde\"))\n",
    "n=int(input(\"ange ett värde för n\"))\n",
    "def f(a,n):\n",
    "    an=2*n+1\n",
    "    return n*(a+an)/2\n",
    "    range(a)\n",
    "print(f(a,n))"
   ]
  },
  {
   "cell_type": "code",
   "execution_count": 51,
   "metadata": {},
   "outputs": [
    {
     "output_type": "stream",
     "name": "stdout",
     "text": [
      "5.385164807134504\n"
     ]
    }
   ],
   "source": [
    "#3a\n",
    "import math\n",
    "a=math.sqrt((3-1)**2+(3- -2)**2)\n",
    "print(a)"
   ]
  },
  {
   "cell_type": "code",
   "execution_count": 55,
   "metadata": {},
   "outputs": [
    {
     "output_type": "stream",
     "name": "stdout",
     "text": [
      "2.23606797749979\n"
     ]
    }
   ],
   "source": [
    "#3b\n",
    "\n",
    "import math\n",
    "def f(a,b):\n",
    "    y1=a[1]\n",
    "    y2=b[1]\n",
    "    x1=a[0]\n",
    "    x2=b[0]\n",
    "    return math.sqrt((y2-y1)**2+(x2-x1)**2)\n",
    "print(f([1,2],[3,1]))"
   ]
  },
  {
   "cell_type": "code",
   "execution_count": 74,
   "metadata": {},
   "outputs": [
    {
     "output_type": "stream",
     "name": "stdout",
     "text": [
      "0.0\n"
     ]
    }
   ],
   "source": [
    "#3c\n",
    "import math\n",
    "\n",
    "a=[0,0]\n",
    "b=[0,0]\n",
    "\n",
    "a[0]=int(input(\"ange ett x värde för punk a\"))\n",
    "a[1]=int(input(\"ange ett y värde för punk a\"))\n",
    "b[0]=int(input(\"ange ett x värde för punkt b\"))\n",
    "b[1]=int(input(\"ange ett y värde för punk b\"))\n",
    "\n",
    "def f(a,b):\n",
    "    y1=a[1]\n",
    "    y2=b[1]\n",
    "    x1=a[0]\n",
    "    x2=b[0]\n",
    "    return math.sqrt((y2-y1)**2+(x2-x1)**2)\n",
    "print(f(a,b))"
   ]
  },
  {
   "cell_type": "code",
   "execution_count": null,
   "metadata": {},
   "outputs": [],
   "source": []
  }
 ]
}