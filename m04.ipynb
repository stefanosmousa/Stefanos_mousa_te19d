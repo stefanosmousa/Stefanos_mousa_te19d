{
 "metadata": {
  "language_info": {
   "codemirror_mode": {
    "name": "ipython",
    "version": 3
   },
   "file_extension": ".py",
   "mimetype": "text/x-python",
   "name": "python",
   "nbconvert_exporter": "python",
   "pygments_lexer": "ipython3",
   "version": "3.8.3-final"
  },
  "orig_nbformat": 2,
  "kernelspec": {
   "name": "python3",
   "display_name": "Python 3.8.3 64-bit (conda)",
   "metadata": {
    "interpreter": {
     "hash": "91f53264392ae34336c760709f07bc36cf9c0dd5a128a5b3682fc14cdf798a75"
    }
   }
  }
 },
 "nbformat": 4,
 "nbformat_minor": 2,
 "cells": [
  {
   "cell_type": "code",
   "execution_count": 42,
   "metadata": {},
   "outputs": [
    {
     "output_type": "stream",
     "name": "stdout",
     "text": [
      "1\n2\n3\n4\n5\n6\n7\n8\n9\n10\n3628800\n"
     ]
    }
   ],
   "source": [
    "#m04u01\n",
    "summa=1\n",
    "for i in range(1,11):\n",
    "    print(i)\n",
    "    summa*=i\n",
    "else:\n",
    "    print(summa)"
   ]
  },
  {
   "cell_type": "code",
   "execution_count": 43,
   "metadata": {
    "tags": []
   },
   "outputs": [
    {
     "output_type": "stream",
     "name": "stdout",
     "text": [
      "0\n1\n2\n3\n4\n5\n6\n7\n8\n9\n10\n11\n12\n13\n14\n24272.624711896617\n"
     ]
    }
   ],
   "source": [
    "#m04u02\n",
    "import math\n",
    "summa=10000\n",
    "år=15\n",
    "förändringsfaktor=1.03\n",
    "for i in range(år):\n",
    "    print(i)\n",
    "    summa*=1.03\n",
    "else:\n",
    "    summa=summa*förändringsfaktor**år\n",
    "    print(summa)"
   ]
  },
  {
   "cell_type": "code",
   "execution_count": 1,
   "metadata": {
    "tags": []
   },
   "outputs": [
    {
     "output_type": "stream",
     "name": "stdout",
     "text": [
      "number is unavalable\n"
     ]
    }
   ],
   "source": [
    "#m04uu3\n",
    "n=int(input('Please enter a positive integer between 1 and 15: '))\n",
    "for row in range(1,n+1):\n",
    "    if n<16:\n",
    "        print(*(\"{:3}\".format(row*col) for col in range(1, n+1)))\n",
    "    else:\n",
    "        print(f\"number is unavalable\")\n",
    "        break"
   ]
  },
  {
   "cell_type": "code",
   "execution_count": 7,
   "metadata": {
    "tags": []
   },
   "outputs": [
    {
     "output_type": "stream",
     "name": "stdout",
     "text": [
      "10\n9\n8\n7\n6\n5\n4\n3\n2\n1\n0\nsumman av alla tal är0\n"
     ]
    }
   ],
   "source": [
    "#m04uu4\n",
    "tal=11\n",
    "while tal<=11:\n",
    "    tal-=1\n",
    "    print(tal)\n",
    "    if tal==0:\n",
    "        break\n",
    "else:\n",
    "    print(hej)\n",
    "\n",
    "for tal in range(1,10):\n",
    "    tal*=0\n",
    "    print(f\"summan av alla tal är{tal}\")\n",
    "    break"
   ]
  },
  {
   "cell_type": "code",
   "execution_count": 45,
   "metadata": {
    "tags": []
   },
   "outputs": [
    {
     "output_type": "stream",
     "name": "stdout",
     "text": [
      "200\n"
     ]
    }
   ],
   "source": [
    "#m04uu5\n",
    "\n",
    "råttor=100\n",
    "månader=0\n",
    "while True:\n",
    "    if råttor in range (100,1000000):\n",
    "        råttor+=100\n",
    "        månader=råttor\n",
    "        print(månader)\n",
    "        break"
   ]
  },
  {
   "cell_type": "code",
   "execution_count": 21,
   "metadata": {
    "tags": []
   },
   "outputs": [
    {
     "output_type": "stream",
     "name": "stdout",
     "text": [
      "1\n2\n3\n4\n5\n6\n \n7\n8\n9\n10\n11\n12\n13\n14\n15\n16\n17\n"
     ]
    }
   ],
   "source": [
    "#m04uu6\n",
    "nummer==0\n",
    "x=int(input(\"ange ett starttal\"))\n",
    "y=int(input(\"ange ett sluttal\"))\n",
    "z=int(input(\"ange ett tal som du inte vill att ska synas\"))\n",
    "o=int(input(\"ange ett tal som skall avbryta loopen\"))\n",
    "\n",
    "for nummer in range(x,y):\n",
    "    print (nummer)\n",
    "    if nummer==z:\n",
    "        print(\" \")\n",
    "    if nummer==o:\n",
    "        break"
   ]
  },
  {
   "cell_type": "code",
   "execution_count": null,
   "metadata": {},
   "outputs": [],
   "source": []
  }
 ]
}