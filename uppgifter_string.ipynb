{
 "metadata": {
  "language_info": {
   "codemirror_mode": {
    "name": "ipython",
    "version": 3
   },
   "file_extension": ".py",
   "mimetype": "text/x-python",
   "name": "python",
   "nbconvert_exporter": "python",
   "pygments_lexer": "ipython3",
   "version": "3.8.3-final"
  },
  "orig_nbformat": 2,
  "kernelspec": {
   "name": "python3",
   "display_name": "Python 3"
  }
 },
 "nbformat": 4,
 "nbformat_minor": 2,
 "cells": [
  {
   "cell_type": "code",
   "execution_count": 8,
   "metadata": {},
   "outputs": [
    {
     "output_type": "stream",
     "name": "stdout",
     "text": [
      "8\n"
     ]
    }
   ],
   "source": [
    "namn=input(\"ange ditt namn\")\n",
    "antal_bokstäver=len(namn)\n",
    "print(antal_bokstäver)"
   ]
  },
  {
   "cell_type": "code",
   "execution_count": 10,
   "metadata": {},
   "outputs": [
    {
     "output_type": "stream",
     "name": "stdout",
     "text": [
      "det är 15 ord i denna meningen\n"
     ]
    }
   ],
   "source": [
    "mening=\"En bild säger mer än tusen ord, en matematisk formel säger mer än tusen bilder\"\n",
    "\n",
    "ord=mening.split(\" \")\n",
    "\n",
    "print(f\"det är {len(ord)} ord i denna meningen\")"
   ]
  },
  {
   "cell_type": "code",
   "execution_count": 42,
   "metadata": {},
   "outputs": [
    {
     "output_type": "stream",
     "name": "stdout",
     "text": [
      "nej\n"
     ]
    }
   ],
   "source": [
    "def isPalindrome(s):\n",
    "    return x== x[::-1]\n",
    "\n",
    "x = input(\"ange ett palindrom\")\n",
    "ans = isPalindrome(x)\n",
    "\n",
    "if ans:\n",
    "    print(\"ja\")\n",
    "else:\n",
    "    print(\"nej\")"
   ]
  }
 ]
}