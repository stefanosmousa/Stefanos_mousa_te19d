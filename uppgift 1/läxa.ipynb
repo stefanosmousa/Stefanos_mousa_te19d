{
 "metadata": {
  "language_info": {
   "codemirror_mode": {
    "name": "ipython",
    "version": 3
   },
   "file_extension": ".py",
   "mimetype": "text/x-python",
   "name": "python",
   "nbconvert_exporter": "python",
   "pygments_lexer": "ipython3",
   "version": "3.8.3-final"
  },
  "orig_nbformat": 2,
  "kernelspec": {
   "name": "python_defaultSpec_1599651529201",
   "display_name": "Python 3.8.3 64-bit ('base': conda)"
  }
 },
 "nbformat": 4,
 "nbformat_minor": 2,
 "cells": [
  {
   "cell_type": "code",
   "execution_count": null,
   "metadata": {},
   "outputs": [],
   "source": [
    "kelvin=float(input(\"Ange grader: \"))\n",
    "C=kelvin+273.15\n",
    "\n",
    "print(f\"{kelvin} = {C}\")"
   ]
  },
  {
   "cell_type": "code",
   "execution_count": 2,
   "metadata": {
    "tags": []
   },
   "outputs": [
    {
     "output_type": "stream",
     "name": "stdout",
     "text": "3.0 = -270.15\n"
    }
   ],
   "source": [
    "C=float(input(\"Ange grader: \"))\n",
    "Kelvin=C-273.15\n",
    "\n",
    "print(f\"{C} = {Kelvin}\")"
   ]
  },
  {
   "cell_type": "code",
   "execution_count": 21,
   "metadata": {
    "tags": []
   },
   "outputs": [
    {
     "output_type": "stream",
     "name": "stdout",
     "text": "111111111111111111111111111111 skulle den totala kostnaden vara om du åkte 1 gånger\n"
    }
   ],
   "source": [
    "antal=float(input(\"hur många gånger har du åkt med västtrafik?\"))\n",
    "\n",
    "engångsbiljett = 30\n",
    "månadskort = 775\n",
    "\n",
    "pris = 30 * antal\n",
    "\n",
    "print(f\"{pris} skulle den totala kostnaden vara om du åkte {antal} gånger\")"
   ]
  },
  {
   "cell_type": "code",
   "execution_count": null,
   "metadata": {},
   "outputs": [],
   "source": []
  }
 ]
}