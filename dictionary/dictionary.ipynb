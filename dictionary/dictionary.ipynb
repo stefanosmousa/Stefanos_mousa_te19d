{
 "metadata": {
  "language_info": {
   "codemirror_mode": {
    "name": "ipython",
    "version": 3
   },
   "file_extension": ".py",
   "mimetype": "text/x-python",
   "name": "python",
   "nbconvert_exporter": "python",
   "pygments_lexer": "ipython3",
   "version": "3.8.5-final"
  },
  "orig_nbformat": 2,
  "kernelspec": {
   "name": "python3",
   "display_name": "Python 3.8.5 64-bit (conda)",
   "metadata": {
    "interpreter": {
     "hash": "3962eeeea355bfa763b29fe48a1ee94959d7560e6bcd457b12b8e2bf313d0065"
    }
   }
  }
 },
 "nbformat": 4,
 "nbformat_minor": 2,
 "cells": [
  {
   "cell_type": "code",
   "execution_count": 7,
   "metadata": {},
   "outputs": [
    {
     "output_type": "stream",
     "name": "stdout",
     "text": [
      "{'namn': 'stefanos', 'ålder': 17, 'yrke': 'elev', 'skola': 'NTI'}\npersonens namn är stefanos\nhan är 17 år gammal\nstefanos är elev på NTI\n"
     ]
    }
   ],
   "source": [
    "#syntax med dict\n",
    "person = dict(\n",
    "    namn = \"stefanos\", \n",
    "    ålder = 17, \n",
    "    yrke = \"elev\",\n",
    "    skola = \"NTI\"\n",
    ")\n",
    "print(person)\n",
    "print(f\"personens namn är {person['namn']}\")\n",
    "print(f\"han är {person['ålder']} år gammal\")\n",
    "print(f\"{person['namn']} är {person['yrke']} på {person['skola']}\")"
   ]
  },
  {
   "cell_type": "code",
   "execution_count": 13,
   "metadata": {},
   "outputs": [
    {
     "output_type": "stream",
     "name": "stdout",
     "text": [
      "orden vi ska lära oss är:\ntilldela, datastruktur, sträng, dictionary, \n\nglosa \t betydelse\ntilldela \t ge ett värde till en variabel\ndatastruktur \t strukturering av data\nsträng \t sekvens av tecken\ndictionary \t datastruktur för att spara data i key:value par\n"
     ]
    }
   ],
   "source": [
    "#syntax med måsvingar{}\n",
    "glosor = {\n",
    "    \"tilldela\":\"ge ett värde till en variabel\",\n",
    "    \"datastruktur\":\"strukturering av data\",\n",
    "    \"sträng\":\"sekvens av tecken\"\n",
    "\n",
    "}\n",
    "\n",
    "#lägg till element i dictionary\n",
    "glosor[\"dictionary\"] = \"datastruktur för att spara data i key:value par\"\n",
    "\n",
    "#print(glosor)\n",
    "#print(glosor(\"tilldela\"))\n",
    "\n",
    "print(\"orden vi ska lära oss är:\")\n",
    "#itererar över nycklarna i dictionary\n",
    "for key in glosor:\n",
    "    print(key, end=\", \")\n",
    "\n",
    "print(\"\\n\\nglosa \\t betydelse\")\n",
    "#itererar över nyckel, värde i dictionary\n",
    "for key, value in glosor.items():\n",
    "    print(f\"{key} \\t {value}\")"
   ]
  },
  {
   "cell_type": "code",
   "execution_count": 16,
   "metadata": {},
   "outputs": [
    {
     "output_type": "stream",
     "name": "stdout",
     "text": [
      "850\n"
     ]
    }
   ],
   "source": [
    "#1\n",
    "summa = 0 #ange ett startvärde för summa\n",
    "kursnamn = { #skapa ett dictionary med alla variabler jag vill ha med och deras värden\n",
    "    \"programmering\":100,\n",
    "    \"webbutveckling\":100,\n",
    "    \"dator- och nätverkteknin\":100,\n",
    "    \"fysik\":150,\n",
    "    \"svenska\":100,\n",
    "    \"engelska\":100,\n",
    "    \"matte\":100,\n",
    "    \"tillämpad programmering\":100\n",
    "}\n",
    "for key,values in kursnamn.items(): #skapa en for-sats som adderar ihop alla värden i dictionaryn ovan och lägger till totala summan till \"summa\".\n",
    "    summa += values\n",
    "print(summa)"
   ]
  },
  {
   "cell_type": "code",
   "execution_count": 29,
   "metadata": {},
   "outputs": [
    {
     "output_type": "stream",
     "name": "stdout",
     "text": [
      "{'ett': 16391, 'två': 16729, 'tre': 16805, 'fyra': 16668, 'fem': 16728, 'sex': 16679}\n"
     ]
    }
   ],
   "source": [
    "#2\n",
    "import random as rnd #importera random för att generera random random tal för tärningen\n",
    "\n",
    "kast = { #skapa en dictionary med alla variabler och deras startvärde, anledningen till att jag har värdet 0 på alla är för att det är hur många av varje som finns från början\n",
    "    \"ett\":0,\n",
    "    \"två\":0,\n",
    "    \"tre\":0,\n",
    "    \"fyra\":0,\n",
    "    \"fem\":0,\n",
    "    \"sex\":0\n",
    "}\n",
    "for i in range(100000): #skapa en forsats som kommer loopas 100 000 gånger och genererar tal mellan 1 och 6, då en tärning har 6 sidor\n",
    "    tärnkast = rnd.randint(1,6)\n",
    "    if tärnkast == 1: #skapar en if sats i for satsen så att när programmet loopas så kommer den kolla igenom alla tal och addera de till deras startvärde i dictionaryn, 1+1+1+1+1+1+1 tills programmet genererat 100 000 tal och sen addera ihop de och ge en total summa\n",
    "        kast[\"ett\"] +=1\n",
    "    elif tärnkast == 2:\n",
    "        kast[\"två\"] +=1\n",
    "    elif tärnkast == 3:\n",
    "        kast[\"tre\"] +=1\n",
    "    elif tärnkast == 4:\n",
    "        kast[\"fyra\"] +=1\n",
    "    elif tärnkast == 5:\n",
    "        kast[\"fem\"] +=1\n",
    "    elif tärnkast == 6:\n",
    "        kast[\"sex\"] +=1\n",
    "    \n",
    "print(kast)"
   ]
  },
  {
   "cell_type": "code",
   "execution_count": 9,
   "metadata": {},
   "outputs": [
    {
     "output_type": "stream",
     "name": "stdout",
     "text": [
      "simma höger\n"
     ]
    }
   ],
   "source": [
    "husdjur = {\n",
    "    \"djur\":\"fisk\",\n",
    "    \"ålder\":5,\n",
    "    \"ätbar\":False,\n",
    "    \"actions\":[\"simma fram\", \"simma bak\", \"simma höger\"]\n",
    "}\n",
    "print(husdjur['actions'][2])"
   ]
  },
  {
   "cell_type": "code",
   "execution_count": 40,
   "metadata": {},
   "outputs": [],
   "source": [
    "#3\n",
    "with open(\"pokemonlista.txt\",\"a\") as f:\n",
    "    pokedex = {\n",
    "        'gastly':'typ: spoke,gift, index: 92',\n",
    "        'pikachu':'typ: elektrisk, index: 25'\n",
    "    }\n",
    "\n",
    "    f.write(str(pokedex[\"gastly\"] + \"\\n\"))\n",
    "    f.write(str(pokedex[\"pikachu\"]+ \"\\n\"))"
   ]
  },
  {
   "cell_type": "code",
   "execution_count": null,
   "metadata": {},
   "outputs": [],
   "source": []
  }
 ]
}