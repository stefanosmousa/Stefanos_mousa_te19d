{
 "metadata": {
  "language_info": {
   "codemirror_mode": {
    "name": "ipython",
    "version": 3
   },
   "file_extension": ".py",
   "mimetype": "text/x-python",
   "name": "python",
   "nbconvert_exporter": "python",
   "pygments_lexer": "ipython3",
   "version": "3.8.3-final"
  },
  "orig_nbformat": 2,
  "kernelspec": {
   "name": "python_defaultSpec_1600677396225",
   "display_name": "Python 3.8.3 64-bit ('base': conda)"
  }
 },
 "nbformat": 4,
 "nbformat_minor": 2,
 "cells": [
  {
   "cell_type": "code",
   "execution_count": 16,
   "metadata": {
    "tags": []
   },
   "outputs": [
    {
     "output_type": "stream",
     "name": "stdout",
     "text": "talet ar negativt\n"
    }
   ],
   "source": [
    "tal=float(input(\"ange ett tal\"))\n",
    "\n",
    "if tal >0 :\n",
    "    print(\"talet ar possitivt\")\n",
    "else:\n",
    "    print(\"talet ar negativt\")"
   ]
  },
  {
   "cell_type": "code",
   "execution_count": 19,
   "metadata": {
    "tags": []
   },
   "outputs": [
    {
     "output_type": "stream",
     "name": "stdout",
     "text": "talet är jämnt\n"
    }
   ],
   "source": [
    "tal=float(input(\"ange ett tal\"))\n",
    "\n",
    "if tal%2 ==0:\n",
    "    print(\"talet är jämnt\")\n",
    "else:\n",
    "    print(\"talet är udda\")\n",
    "if tal%5 ==0:\n",
    "    print(\"tal är delbart med 5\")"
   ]
  },
  {
   "cell_type": "code",
   "execution_count": 8,
   "metadata": {
    "tags": []
   },
   "outputs": [
    {
     "output_type": "stream",
     "name": "stdout",
     "text": "4.0 är större\n"
    }
   ],
   "source": [
    "tal1= float(input(\"Ange valfritt tal\"))\n",
    "tal2= float(input(\"ange valfritt tal\"))\n",
    "\n",
    "if tal2 < tal1:\n",
    "    print(f\"{tal1} är större\")\n",
    "else:\n",
    "    print(f\"{tal2} är större\")"
   ]
  },
  {
   "cell_type": "code",
   "execution_count": 22,
   "metadata": {
    "tags": []
   },
   "outputs": [
    {
     "output_type": "stream",
     "name": "stdout",
     "text": "vinkeln är konvex\n"
    }
   ],
   "source": [
    "vinkel=float(input(\"ange en vinkel\"))\n",
    "\n",
    "if vinkel <=90:\n",
    "    print(\"vinkeln är spetsig\")\n",
    "elif vinkel == 90:\n",
    "    print(\"vinkeln är rät\")\n",
    "elif vinkel >90 and vinkel <180:\n",
    "    print(\"vinklen är trubbig\")\n",
    "elif vinkel ==180:\n",
    "    print(\"vinkeln är rak\")\n",
    "elif vinkel >180 and vinkel <360:\n",
    "    print(\"vinkeln är konvex\")\n",
    "elif vinkel == 360:\n",
    "    print(\"vinkeln är hel\")"
   ]
  },
  {
   "cell_type": "code",
   "execution_count": 6,
   "metadata": {
    "tags": []
   },
   "outputs": [
    {
     "output_type": "stream",
     "name": "stdout",
     "text": "25.12\n50.24\n"
    }
   ],
   "source": [
    "radie=float(input(\"ange en radie\"))\n",
    "\n",
    "omkrets=3.14 * (radie*2)\n",
    "area=3.14 * radie * radie\n",
    "\n",
    "print(omkrets)\n",
    "print(area)"
   ]
  },
  {
   "cell_type": "code",
   "execution_count": 18,
   "metadata": {
    "tags": []
   },
   "outputs": [
    {
     "output_type": "stream",
     "name": "stdout",
     "text": "vinkel är rät\n"
    }
   ],
   "source": [
    "vinkel1=float(input(\"ange en vinkel\"))\n",
    "vinkel2=float(input(\"ange en vinkel\"))\n",
    "vinkel3=float(input(\"ange en vinkel\"))\n",
    "\n",
    "if vinkel1 or vinkel2 or vinkel3 == 90:\n",
    "    print(\"vinkel är rät\")\n",
    "else:\n",
    "    print(\"vinkel är inte rät\")"
   ]
  },
  {
   "cell_type": "code",
   "execution_count": 24,
   "metadata": {
    "tags": []
   },
   "outputs": [
    {
     "output_type": "stream",
     "name": "stdout",
     "text": "kvadrat 4\n"
    }
   ],
   "source": [
    "x=float(input(\"ange x koordinaten\"))\n",
    "y=float(input(\"ange y koordinaten\"))\n",
    "\n",
    "if x >= 0 and y>=0:\n",
    "    print(\"kvadrat 1\")\n",
    "elif x <= 0 and y>=0:\n",
    "    print(\"kvadrat 4\")\n",
    "elif x<=0 and y<=0:\n",
    "    print(\"kvadrat 3\")\n",
    "elif x>=0 and y<=0:\n",
    "    print(\"kvadrat 2\")"
   ]
  },
  {
   "cell_type": "code",
   "execution_count": 31,
   "metadata": {
    "tags": []
   },
   "outputs": [
    {
     "output_type": "stream",
     "name": "stdout",
     "text": "inte godkänd\n"
    }
   ],
   "source": [
    "vikt=float(input(\"ange bagagets vikt\"))\n",
    "höjd=float(input(\"ange bagagets höjd\"))\n",
    "längd=float(input(\"ange bagagets längd\"))\n",
    "bredd=float(input(\"ange bagagets bredd\"))\n",
    "\n",
    "if vikt <= 8 and höjd <= 23 and bredd <= 40 and längd<= 55:\n",
    "    print(\"bagaget är godkänt\")\n",
    "else:\n",
    "    print(\"inte godkänd\")"
   ]
  },
  {
   "cell_type": "code",
   "execution_count": null,
   "metadata": {},
   "outputs": [],
   "source": []
  }
 ]
}